{
 "cells": [
  {
   "cell_type": "code",
   "execution_count": 53,
   "id": "3fe46f87-f79e-4744-aafa-c89c7ae73526",
   "metadata": {},
   "outputs": [],
   "source": [
    "import geopandas as gpd\n",
    "import pandas as pd\n",
    "import numpy as np\n",
    "import os\n",
    "import yaml\n",
    "import math\n",
    "from shapely import LineString, Point, Polygon, distance"
   ]
  },
  {
   "cell_type": "code",
   "execution_count": 54,
   "id": "d33b36d2-77a8-4455-93da-8930f2caa957",
   "metadata": {},
   "outputs": [],
   "source": [
    "i_line = pd.Index(['id', 'Type', 'Region', 'tags.power', 'tags.voltage', 'tags.name',\n",
    "       'tags.operator', 'tags.utility', 'tags.cables', 'tags.frequency',\n",
    "       'tags.source', 'tags.operator:wikidata', 'tags.wires', 'tags.circuits',\n",
    "       'tags.line', 'other_tags', 'geometry'])\n",
    "\n",
    "i_subs = pd.Index(['id', 'Type', 'Region', 'tags.location', 'tags.name', 'tags.power',\n",
    "       'tags.substation', 'tags.voltage', 'tags.operator', 'tags.source',\n",
    "       'tags.building', 'tags.addr:city', 'tags.operator:wikidata',\n",
    "       'tags.operator:wikipedia', 'tags.addr:full', 'tags.barrier',\n",
    "       'other_tags', 'geometry'])\n",
    "\n",
    "def create_custom_network(df, name):\n",
    "    df[\"bus0\"] = [Point(xy) for xy in zip(df.x1,df.y1)]\n",
    "    df[\"bus1\"] = [Point(xy) for xy in zip(df.x2,df.y2)]\n",
    "    \n",
    "    # defining custom lines\n",
    "    df[\"geometry\"] = [LineString(xy) for xy in zip(df['bus0'],df['bus1'])]\n",
    "    df_line = df[df.columns.intersection(i_line)]\n",
    "    df_line.reset_index(drop=True)\n",
    "    df_line[\"id\"] = df_line.index + 100000000\n",
    "    gdf_line = gpd.GeoDataFrame(df_line, crs=\"EPSG:4326\")\n",
    "    gdf_line.to_file(\"custom_lines_\" + name + \".geojson\", driver=\"GeoJSON\")\n",
    "    \n",
    "    # defining custom substations\n",
    "    df[\"tags.power\"] = \"substation\"\n",
    "    df[\"tags.substation\"] = \"transmission\"\n",
    "    \n",
    "    df_sub1 = df.copy(deep=True)\n",
    "    df_sub1[\"geometry\"] = df_sub1[\"bus0\"]\n",
    "    \n",
    "    df_sub2 = df.copy(deep=True)\n",
    "    df_sub2[\"Region\"] = df_sub2[\"Region1\"]\n",
    "    df_sub2[\"geometry\"] = df_sub2[\"bus1\"]\n",
    "    \n",
    "    df_sub = pd.concat([df_sub1,df_sub2])\n",
    "    df_sub.reset_index(drop=True)\n",
    "    df_sub[\"id\"] = df_sub.index + 100000000\n",
    "    df_sub = df_sub[df_sub.columns.intersection(i_subs)]\n",
    "    gdf_sub = gpd.GeoDataFrame(df_sub, crs=\"EPSG:4326\")\n",
    "    gdf_sub.to_file(\"custom_substations_\" + name + \".geojson\", driver=\"GeoJSON\")\n"
   ]
  },
  {
   "cell_type": "code",
   "execution_count": 55,
   "id": "85933569-420c-408c-a0d6-f406b779ff13",
   "metadata": {},
   "outputs": [
    {
     "name": "stderr",
     "output_type": "stream",
     "text": [
      "/tmp/ipykernel_4944/2168686921.py:20: SettingWithCopyWarning: \n",
      "A value is trying to be set on a copy of a slice from a DataFrame.\n",
      "Try using .loc[row_indexer,col_indexer] = value instead\n",
      "\n",
      "See the caveats in the documentation: https://pandas.pydata.org/pandas-docs/stable/user_guide/indexing.html#returning-a-view-versus-a-copy\n",
      "  df_line[\"id\"] = df_line.index + 100000000\n",
      "/tmp/ipykernel_4944/2168686921.py:20: SettingWithCopyWarning: \n",
      "A value is trying to be set on a copy of a slice from a DataFrame.\n",
      "Try using .loc[row_indexer,col_indexer] = value instead\n",
      "\n",
      "See the caveats in the documentation: https://pandas.pydata.org/pandas-docs/stable/user_guide/indexing.html#returning-a-view-versus-a-copy\n",
      "  df_line[\"id\"] = df_line.index + 100000000\n",
      "/tmp/ipykernel_4944/2168686921.py:20: SettingWithCopyWarning: \n",
      "A value is trying to be set on a copy of a slice from a DataFrame.\n",
      "Try using .loc[row_indexer,col_indexer] = value instead\n",
      "\n",
      "See the caveats in the documentation: https://pandas.pydata.org/pandas-docs/stable/user_guide/indexing.html#returning-a-view-versus-a-copy\n",
      "  df_line[\"id\"] = df_line.index + 100000000\n"
     ]
    }
   ],
   "source": [
    "df_int = pd.read_csv(\"csv_file/custom_int_net.csv\")\n",
    "\n",
    "for name in [\"exist\", \"aims\", \"irena\"]:\n",
    "    df_ext = pd.read_csv(\"csv_file/custom_ext_net_\" + name + \".csv\")\n",
    "    df = pd.concat([df_int,df_ext])\n",
    "\n",
    "    create_custom_network(df, name)"
   ]
  },
  {
   "cell_type": "code",
   "execution_count": null,
   "id": "39137d9b-da9c-4af9-a2cf-fd6cb91874ec",
   "metadata": {},
   "outputs": [],
   "source": []
  }
 ],
 "metadata": {
  "kernelspec": {
   "display_name": "Python 3 (ipykernel)",
   "language": "python",
   "name": "python3"
  },
  "language_info": {
   "codemirror_mode": {
    "name": "ipython",
    "version": 3
   },
   "file_extension": ".py",
   "mimetype": "text/x-python",
   "name": "python",
   "nbconvert_exporter": "python",
   "pygments_lexer": "ipython3",
   "version": "3.10.16"
  }
 },
 "nbformat": 4,
 "nbformat_minor": 5
}
